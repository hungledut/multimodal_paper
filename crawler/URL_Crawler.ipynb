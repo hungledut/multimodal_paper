{
 "cells": [
  {
   "cell_type": "code",
   "execution_count": 1,
   "id": "4ed17f81-250c-4c15-8f94-35f0524a4201",
   "metadata": {},
   "outputs": [],
   "source": [
    "import hashlib\n",
    "import io\n",
    "from pathlib import Path\n",
    "import pandas as pd\n",
    "import requests\n",
    "from bs4 import BeautifulSoup\n",
    "from PIL import Image\n",
    "from selenium import webdriver\n",
    "import os\n",
    "import urllib"
   ]
  },
  {
   "cell_type": "code",
   "execution_count": 2,
   "id": "dd1fb597-106a-4ea0-86ca-b38fe5a9fb3a",
   "metadata": {},
   "outputs": [],
   "source": [
    "import time\n",
    "def Crawler(category,page):\n",
    "    print(f'https://www.amazon.com/s?k={category}&page={page}')\n",
    "\n",
    "    #create chromeoptions instance\n",
    "    options = webdriver.ChromeOptions()\n",
    "    options.add_argument(\"--headless\")\n",
    "    options.add_argument(\"--no-sandbox\")\n",
    "\n",
    "    #provide location where chrome stores profiles\n",
    "    options.add_argument(r\"--user-data-dir=/home/username/.config/google-chrome\")\n",
    "\n",
    "    #provide the profile name with which we want to open browser\n",
    "    options.add_argument(r'--profile-directory=Profile 3')\n",
    "\n",
    "    driver = webdriver.Chrome(options=options)\n",
    "    driver.get(f'https://www.amazon.com/s?k={category}&page={page}')\n",
    "    driver.execute_script(\"window.scrollTo(0, document.body.scrollHeight);\")\n",
    "    results = []\n",
    "    content = driver.page_source\n",
    "    soup = BeautifulSoup(content)\n",
    "    # soup_scaled = soup.find()\n",
    "    driver.quit()\n",
    "    results = []\n",
    "    for a in soup.findAll('a', class_ = \"a-link-normal s-underline-text s-underline-link-text s-link-style a-text-normal\"):\n",
    "        results.append(a.get(\"href\"))\n",
    "    return results"
   ]
  },
  {
   "cell_type": "code",
   "execution_count": 3,
   "id": "c45ba620-d715-417c-97e9-a3c3743113b7",
   "metadata": {},
   "outputs": [],
   "source": [
    "# categories = [\"table\" , \"cell+phone\", \"laptop\", \"hat\", \"shoes\" ]\n",
    "# categories = [\"t-shirts\" , \"headphones\", \"keyboard\", \"bag\", \"chair\" ]\n",
    "# categories = [\"television\" , \"fridge\", \"mouse\"]\n",
    "# categories = [\"printer\",\"washing+machine\"]\n",
    "# categories = [\"tablet\",\"vacuum\",\"lamp\"]\n",
    "categories = [\"digital+camera\",\"speaker\",\"iron\"]"
   ]
  },
  {
   "cell_type": "code",
   "execution_count": 4,
   "id": "65e03263-c0b8-4a8a-8a41-c2e8988edf6d",
   "metadata": {},
   "outputs": [
    {
     "name": "stdout",
     "output_type": "stream",
     "text": [
      "https://www.amazon.com/s?k=digital+camera&page=1\n",
      "https://www.amazon.com/s?k=digital+camera&page=2\n",
      "https://www.amazon.com/s?k=digital+camera&page=3\n",
      "https://www.amazon.com/s?k=digital+camera&page=4\n",
      "https://www.amazon.com/s?k=speaker&page=1\n",
      "https://www.amazon.com/s?k=speaker&page=2\n",
      "https://www.amazon.com/s?k=speaker&page=3\n",
      "https://www.amazon.com/s?k=speaker&page=4\n",
      "https://www.amazon.com/s?k=iron&page=1\n",
      "https://www.amazon.com/s?k=iron&page=2\n",
      "https://www.amazon.com/s?k=iron&page=3\n",
      "https://www.amazon.com/s?k=iron&page=4\n"
     ]
    }
   ],
   "source": [
    "Link_table = []\n",
    "Link_cellphone = []\n",
    "\n",
    "for category in categories:\n",
    "    Link = []\n",
    "    for page in range(1,5):\n",
    "        Link = Link + Crawler(category,page)\n",
    "    df = pd.DataFrame(Link)\n",
    "    df.to_csv(category+\".csv\",index = False)"
   ]
  },
  {
   "cell_type": "code",
   "execution_count": null,
   "id": "34c511b9-41dc-49b6-8eba-4558ca88c107",
   "metadata": {},
   "outputs": [],
   "source": []
  }
 ],
 "metadata": {
  "kernelspec": {
   "display_name": "Python 3 (ipykernel)",
   "language": "python",
   "name": "python3"
  },
  "language_info": {
   "codemirror_mode": {
    "name": "ipython",
    "version": 3
   },
   "file_extension": ".py",
   "mimetype": "text/x-python",
   "name": "python",
   "nbconvert_exporter": "python",
   "pygments_lexer": "ipython3",
   "version": "3.11.4"
  }
 },
 "nbformat": 4,
 "nbformat_minor": 5
}
