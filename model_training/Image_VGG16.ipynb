{
  "cells": [
    {
      "cell_type": "code",
      "execution_count": null,
      "metadata": {
        "colab": {
          "base_uri": "https://localhost:8080/"
        },
        "id": "mFnWnDcI3qJJ",
        "outputId": "6fa846a6-8482-414c-c89a-56ab3e6ebe46"
      },
      "outputs": [
        {
          "output_type": "stream",
          "name": "stdout",
          "text": [
            "Drive already mounted at /content/drive; to attempt to forcibly remount, call drive.mount(\"/content/drive\", force_remount=True).\n"
          ]
        }
      ],
      "source": [
        "from google.colab import drive\n",
        "drive.mount('/content/drive')"
      ]
    },
    {
      "cell_type": "code",
      "source": [
        "import torch\n",
        "\n",
        "if torch.cuda.is_available():\n",
        "    device = torch.device(\"cuda:0\")\n",
        "    print(\"GPU is available. Using GPU:\", torch.cuda.get_device_name(0))\n",
        "else:\n",
        "    device = torch.device(\"cpu\")\n",
        "    print(\"GPU is not available. Using CPU.\")"
      ],
      "metadata": {
        "colab": {
          "base_uri": "https://localhost:8080/"
        },
        "id": "7OOE3u9uxylz",
        "outputId": "3272a7b4-ac92-49b9-cadc-238c62baa4fe"
      },
      "execution_count": null,
      "outputs": [
        {
          "output_type": "stream",
          "name": "stdout",
          "text": [
            "GPU is available. Using GPU: Tesla T4\n"
          ]
        }
      ]
    },
    {
      "cell_type": "code",
      "execution_count": null,
      "metadata": {
        "id": "KSO_G2wVfvmK"
      },
      "outputs": [],
      "source": [
        "import os\n",
        "from torchvision import datasets, transforms\n",
        "from torch.utils.data import DataLoader, random_split\n",
        "\n",
        "\n",
        "path = \"/content/drive/MyDrive/Data_Image\"\n",
        "\n",
        "transform = transforms.Compose([\n",
        "    transforms.Resize((224, 224)),\n",
        "    # transforms.RandomHorizontalFlip(p=0.5),\n",
        "    # transforms.RandomRotation(degrees=15),\n",
        "    transforms.ToTensor(),\n",
        "    # transforms.Normalize(mean=[0.5, 0.5, 0.5], std=[0.5, 0.5, 0.5])\n",
        "])\n",
        "\n",
        "Image_dataset = datasets.ImageFolder(root=path, transform=transform)\n"
      ]
    },
    {
      "cell_type": "code",
      "execution_count": null,
      "metadata": {
        "id": "VsUqpFBGMv_b"
      },
      "outputs": [],
      "source": [
        "# Chia dữ liệu thành tập train và tập test\n",
        "train_dataset, test_dataset = random_split(Image_dataset, [0.7, 0.3])\n",
        "\n",
        "batch_size = 32\n",
        "# Tạo DataLoader để nạp dữ liệu theo batch\n",
        "train_loader = DataLoader(train_dataset, batch_size=batch_size, shuffle=True)\n",
        "test_loader = DataLoader(test_dataset, batch_size=batch_size, shuffle=True)"
      ]
    },
    {
      "cell_type": "code",
      "execution_count": null,
      "metadata": {
        "colab": {
          "base_uri": "https://localhost:8080/"
        },
        "id": "Ih9LgbcXcrBy",
        "outputId": "bcb568c1-d567-4dbe-d019-6e4d4ad11375"
      },
      "outputs": [
        {
          "output_type": "execute_result",
          "data": {
            "text/plain": [
              "1346"
            ]
          },
          "metadata": {},
          "execution_count": 13
        }
      ],
      "source": [
        "len(Image_dataset)"
      ]
    },
    {
      "cell_type": "code",
      "execution_count": null,
      "metadata": {
        "id": "x6EGKDgNV-T0"
      },
      "outputs": [],
      "source": [
        "from torchvision.models import vgg16\n",
        "import torch.nn as nn\n",
        "\n",
        "class Vison_model(nn.Module):\n",
        "    def __init__(self, num_classes=16):\n",
        "        super(Vison_model, self).__init__()\n",
        "\n",
        "        self.vgg16 = vgg16(pretrained=False).to(device)\n",
        "\n",
        "        n_inputs = self.vgg16.classifier[6].in_features\n",
        "\n",
        "        self.vgg16.classifier[6] = nn.Sequential(\n",
        "            nn.Linear(n_inputs, num_classes, bias=True),\n",
        "            nn.LogSoftmax(dim=1)\n",
        "        )\n",
        "\n",
        "    def forward(self, x):\n",
        "        x = self.vgg16(x)\n",
        "        return x\n",
        "\n",
        "\n",
        "num_classes = len(Image_dataset.classes)\n",
        "vision_model = Vison_model(num_classes).to(device)"
      ]
    },
    {
      "cell_type": "code",
      "execution_count": null,
      "metadata": {
        "id": "XWQtGz3wceDx"
      },
      "outputs": [],
      "source": [
        "def train_step(model: torch.nn.Module,\n",
        "               data_loader: torch.utils.data.DataLoader,\n",
        "               loss_fn: torch.nn.Module,\n",
        "               optimizer: torch.optim.Optimizer,\n",
        "               accuracy_fn):\n",
        "    train_loss, train_acc = 0, 0\n",
        "\n",
        "    for batch, (X, y) in enumerate(data_loader):\n",
        "        # Chuyển dữ liệu và mô hình lên GPU\n",
        "        X, y = X.to(device), y.to(device)\n",
        "        model.to(device)\n",
        "\n",
        "        # 1. Forward pass\n",
        "        y_pred = model(X)\n",
        "\n",
        "        # 2. Calculate loss\n",
        "        loss = loss_fn(y_pred, y)\n",
        "        train_loss += loss.item()\n",
        "        train_acc += accuracy_fn(y_true=y,\n",
        "                                 y_pred=y_pred.argmax(dim=1)) # Go from logits -> pred labels\n",
        "\n",
        "        # 3. Optimizer zero grad\n",
        "        optimizer.zero_grad()\n",
        "\n",
        "        # 4. Loss backward\n",
        "        loss.backward()\n",
        "\n",
        "        # 5. Optimizer step\n",
        "        optimizer.step()\n",
        "\n",
        "    # Calculate loss and accuracy per epoch and print out what's happening\n",
        "    train_loss /= len(data_loader)\n",
        "    train_acc /= len(data_loader)\n",
        "    print(f\"Train loss: {train_loss:.5f} | Train accuracy: {train_acc:.2f}%\")\n",
        "\n",
        "def test_step(data_loader: torch.utils.data.DataLoader,\n",
        "              model: torch.nn.Module,\n",
        "              loss_fn: torch.nn.Module,\n",
        "              accuracy_fn):\n",
        "    test_loss, test_acc = 0, 0\n",
        "    model.eval() # put model in eval mode\n",
        "    # Turn on inference context manager\n",
        "    with torch.inference_mode():\n",
        "        for (X, y) in data_loader:\n",
        "            # Chuyển dữ liệu lên GPU\n",
        "            X, y = X.to(device), y.to(device)\n",
        "\n",
        "            # 1. Forward pass\n",
        "            test_pred = model(X)\n",
        "\n",
        "            # 2. Calculate loss and accuracy\n",
        "            test_loss += loss_fn(test_pred, y).item()\n",
        "            test_acc += accuracy_fn(y_true=y,\n",
        "                y_pred=test_pred.argmax(dim=1) # Go from logits -> pred labels\n",
        "            )\n",
        "\n",
        "        # Adjust metrics and print out\n",
        "        test_loss /= len(data_loader)\n",
        "        test_acc /= len(data_loader)\n",
        "        print(f\"Test loss: {test_loss:.5f} | Test accuracy: {test_acc:.2f}%\\n\")"
      ]
    },
    {
      "cell_type": "code",
      "execution_count": null,
      "metadata": {
        "id": "Bw3F8Rq1K0iG"
      },
      "outputs": [],
      "source": [
        "import torch.optim as optim\n",
        "\n",
        "loss_fn = nn.CrossEntropyLoss().to(device)\n",
        "optimizer = optim.Adam(vision_model.parameters(), lr=0.0001)\n",
        "\n",
        "def accuracy_fn(y_true, y_pred):\n",
        "    correct = torch.eq(y_true, y_pred).sum().item()  # torch.eq() calculates where two tensors are equal\n",
        "    acc = (correct / len(y_pred)) * 100\n",
        "    return acc\n"
      ]
    },
    {
      "cell_type": "code",
      "execution_count": null,
      "metadata": {
        "colab": {
          "base_uri": "https://localhost:8080/"
        },
        "id": "4uVOCDZ3Kv9R",
        "outputId": "17e514f3-69f0-4462-d19f-3476bc50badf"
      },
      "outputs": [
        {
          "output_type": "stream",
          "name": "stdout",
          "text": [
            "Epoch: 0\n",
            "---------\n",
            "Train loss: 2.65320 | Train accuracy: 13.12%\n",
            "Test loss: 2.53989 | Test accuracy: 14.20%\n",
            "\n",
            "Epoch: 1\n",
            "---------\n",
            "Train loss: 2.55237 | Train accuracy: 17.81%\n",
            "Test loss: 2.39138 | Test accuracy: 17.64%\n",
            "\n",
            "Epoch: 2\n",
            "---------\n",
            "Train loss: 2.33356 | Train accuracy: 25.71%\n",
            "Test loss: 2.35874 | Test accuracy: 28.30%\n",
            "\n",
            "Epoch: 3\n",
            "---------\n",
            "Train loss: 2.13124 | Train accuracy: 32.76%\n",
            "Test loss: 1.99791 | Test accuracy: 38.17%\n",
            "\n",
            "Epoch: 4\n",
            "---------\n",
            "Train loss: 1.82219 | Train accuracy: 44.20%\n",
            "Test loss: 1.86127 | Test accuracy: 41.21%\n",
            "\n",
            "Epoch: 5\n",
            "---------\n",
            "Train loss: 1.58884 | Train accuracy: 51.94%\n",
            "Test loss: 1.71222 | Test accuracy: 47.81%\n",
            "\n",
            "Epoch: 6\n",
            "---------\n",
            "Train loss: 1.39126 | Train accuracy: 56.33%\n",
            "Test loss: 1.66275 | Test accuracy: 47.70%\n",
            "\n",
            "Epoch: 7\n",
            "---------\n",
            "Train loss: 1.09020 | Train accuracy: 66.19%\n",
            "Test loss: 1.55452 | Test accuracy: 52.53%\n",
            "\n",
            "Epoch: 8\n",
            "---------\n",
            "Train loss: 0.86264 | Train accuracy: 71.67%\n",
            "Test loss: 1.61536 | Test accuracy: 54.14%\n",
            "\n",
            "Epoch: 9\n",
            "---------\n",
            "Train loss: 0.69893 | Train accuracy: 78.04%\n",
            "Test loss: 1.50540 | Test accuracy: 58.31%\n",
            "\n",
            "Epoch: 10\n",
            "---------\n",
            "Train loss: 0.49981 | Train accuracy: 84.32%\n",
            "Test loss: 1.66079 | Test accuracy: 59.49%\n",
            "\n",
            "Epoch: 11\n",
            "---------\n",
            "Train loss: 0.34019 | Train accuracy: 89.06%\n",
            "Test loss: 1.98902 | Test accuracy: 59.89%\n",
            "\n",
            "Epoch: 12\n",
            "---------\n",
            "Train loss: 0.23507 | Train accuracy: 92.69%\n",
            "Test loss: 2.27322 | Test accuracy: 63.27%\n",
            "\n",
            "Epoch: 13\n",
            "---------\n",
            "Train loss: 0.19355 | Train accuracy: 94.48%\n",
            "Test loss: 3.02226 | Test accuracy: 61.82%\n",
            "\n",
            "Epoch: 14\n",
            "---------\n",
            "Train loss: 0.15119 | Train accuracy: 95.39%\n",
            "Test loss: 2.74457 | Test accuracy: 60.22%\n",
            "\n",
            "Epoch: 15\n",
            "---------\n",
            "Train loss: 0.13509 | Train accuracy: 96.15%\n",
            "Test loss: 2.84112 | Test accuracy: 60.94%\n",
            "\n",
            "Epoch: 16\n",
            "---------\n",
            "Train loss: 0.09715 | Train accuracy: 97.81%\n",
            "Test loss: 2.69580 | Test accuracy: 58.93%\n",
            "\n",
            "Epoch: 17\n",
            "---------\n",
            "Train loss: 0.12966 | Train accuracy: 96.56%\n",
            "Test loss: 2.77239 | Test accuracy: 63.66%\n",
            "\n",
            "Epoch: 18\n",
            "---------\n",
            "Train loss: 0.11579 | Train accuracy: 97.80%\n",
            "Test loss: 2.20693 | Test accuracy: 62.65%\n",
            "\n",
            "Epoch: 19\n",
            "---------\n",
            "Train loss: 0.09655 | Train accuracy: 98.01%\n",
            "Test loss: 2.63103 | Test accuracy: 59.99%\n",
            "\n",
            "Epoch: 20\n",
            "---------\n",
            "Train loss: 0.05668 | Train accuracy: 98.96%\n",
            "Test loss: 3.15545 | Test accuracy: 60.70%\n",
            "\n",
            "Epoch: 21\n",
            "---------\n",
            "Train loss: 0.04084 | Train accuracy: 98.96%\n",
            "Test loss: 2.76781 | Test accuracy: 64.40%\n",
            "\n",
            "Epoch: 22\n",
            "---------\n",
            "Train loss: 0.07950 | Train accuracy: 98.12%\n",
            "Test loss: 2.01948 | Test accuracy: 60.96%\n",
            "\n",
            "Epoch: 23\n",
            "---------\n",
            "Train loss: 0.07481 | Train accuracy: 98.63%\n",
            "Test loss: 2.71485 | Test accuracy: 58.54%\n",
            "\n",
            "Epoch: 24\n",
            "---------\n",
            "Train loss: 0.05487 | Train accuracy: 98.65%\n",
            "Test loss: 2.71589 | Test accuracy: 63.66%\n",
            "\n",
            "Epoch: 25\n",
            "---------\n",
            "Train loss: 0.04439 | Train accuracy: 98.85%\n",
            "Test loss: 2.60459 | Test accuracy: 65.19%\n",
            "\n",
            "Epoch: 26\n",
            "---------\n",
            "Train loss: 0.06309 | Train accuracy: 99.17%\n",
            "Test loss: 1.96855 | Test accuracy: 62.07%\n",
            "\n",
            "Epoch: 27\n",
            "---------\n",
            "Train loss: 0.04717 | Train accuracy: 99.17%\n",
            "Test loss: 2.36511 | Test accuracy: 63.69%\n",
            "\n",
            "Epoch: 28\n",
            "---------\n",
            "Train loss: 0.02537 | Train accuracy: 99.38%\n",
            "Test loss: 2.38469 | Test accuracy: 66.56%\n",
            "\n",
            "Epoch: 29\n",
            "---------\n",
            "Train loss: 0.02617 | Train accuracy: 99.58%\n",
            "Test loss: 2.06419 | Test accuracy: 64.79%\n",
            "\n"
          ]
        }
      ],
      "source": [
        "torch.manual_seed(42)\n",
        "\n",
        "epochs = 30\n",
        "for epoch in range(epochs):\n",
        "    print(f\"Epoch: {epoch}\\n---------\")\n",
        "    vision_model.train()\n",
        "\n",
        "    train_step(data_loader=train_loader,\n",
        "        model=vision_model,\n",
        "        loss_fn=loss_fn,\n",
        "        optimizer=optimizer,\n",
        "        accuracy_fn=accuracy_fn\n",
        "    )\n",
        "\n",
        "    vision_model.eval()\n",
        "    test_step(data_loader=test_loader,\n",
        "        model=vision_model,\n",
        "        loss_fn=loss_fn,\n",
        "        accuracy_fn=accuracy_fn\n",
        "    )"
      ]
    }
  ],
  "metadata": {
    "colab": {
      "provenance": [],
      "gpuType": "T4"
    },
    "kernelspec": {
      "display_name": "Python 3",
      "name": "python3"
    },
    "language_info": {
      "name": "python"
    },
    "accelerator": "GPU"
  },
  "nbformat": 4,
  "nbformat_minor": 0
}